{
 "metadata": {
  "name": "",
  "signature": "sha256:1b2bff6771ffcba60e7a198705cb2eda5d544cd7224b065cd7e37e9055aa1ad6"
 },
 "nbformat": 3,
 "nbformat_minor": 0,
 "worksheets": [
  {
   "cells": [
    {
     "cell_type": "heading",
     "level": 3,
     "metadata": {},
     "source": [
      "Features estratte dai dati\n"
     ]
    },
    {
     "cell_type": "markdown",
     "metadata": {},
     "source": [
      "Da ogni finestra vengono estratte le seguenti feature:\n",
      "\n",
      "* per ogni variabile :\n",
      "\n",
      "    - media\n",
      "\n",
      "    - mediana\n",
      "\n",
      "    - median absolute deviation\n",
      "\n",
      "    - standard deviation\n",
      "    \n",
      "    - minimo\n",
      "    \n",
      "    - massimo\n",
      "\n",
      "* per ogni terna di accelerometri:\n",
      "\n",
      "    - signal magnitude area\n",
      "\n",
      "* per coppie di assi di ogni accelerometro e coppie di assi di ogni magnetometro:\n",
      "    \n",
      "    - correlazione\n",
      "\n",
      "* per ogni terna di assi degli accelerometri e dei magnetometri:\n",
      "    \n",
      "    - trasformata discreta di fourier\n",
      "\n",
      "    - entropia della trasformata di fourier\n",
      "\n",
      "In totale ogni segmento di dati viene descritto da 159 feature."
     ]
    },
    {
     "cell_type": "code",
     "collapsed": false,
     "input": [
      "import feature_man as fm\n",
      "import plotting as plt\n",
      "import preprocessing as prproc\n",
      "\n",
      "import matplotlib.pyplot as pl\n",
      "import matplotlib.cm as cm\n",
      "\n",
      "from sklearn.decomposition import PCA\n",
      "from sklearn.cluster import KMeans\n",
      "import numpy as np\n",
      "\n",
      "import mars as ms\n",
      "\n",
      "\n",
      "window_length = 50\n",
      "overlap = window_length/2\n",
      "\n",
      "# legge il dataset da file e lo ritorna \"normale\" e gi\u00e0 segmentato\n",
      "data,sgmdata = ms.load_dataset(window_length,overlap)\n",
      "\n",
      "# estrae le feature dai dati segmentati\n",
      "# in header sono elencate in ordine le label di tutte le feature estratte\n",
      "featdata,header = ms.build_dataset_features(sgmdata)\n",
      "\n",
      "# seleziona gli indici delle features relative alla media\n",
      "idxs= ms.select_indexes(fm.original_header,\"_avg\")\n",
      "#print featdata[0,idxs]\n",
      "#plt.plot_in_subplots(featdata,idxs)\n",
      "plt.plot_all(featdata[:,idxs])"
     ],
     "language": "python",
     "metadata": {},
     "outputs": []
    },
    {
     "cell_type": "code",
     "collapsed": false,
     "input": [
      "idxs= ms.select_indexes(fm.original_header,\"_stdev\")\n",
      "#print featdata[0,idxs]\n",
      "#plt.plot_in_subplots(featdata,idxs)\n",
      "plt.plot_all(featdata[:,idxs])"
     ],
     "language": "python",
     "metadata": {},
     "outputs": []
    },
    {
     "cell_type": "code",
     "collapsed": false,
     "input": [
      "idxs= ms.select_indexes(fm.original_header,\"_min\")\n",
      "#print featdata[0,idxs]\n",
      "#plt.plot_in_subplots(featdata,idxs)\n",
      "plt.plot_all(featdata[:,idxs])"
     ],
     "language": "python",
     "metadata": {},
     "outputs": []
    },
    {
     "cell_type": "code",
     "collapsed": false,
     "input": [
      "idxs= ms.select_indexes(fm.original_header,\"_max\")\n",
      "#print featdata[0,idxs]\n",
      "#plt.plot_in_subplots(featdata,idxs)\n",
      "plt.plot_all(featdata[:,idxs])"
     ],
     "language": "python",
     "metadata": {},
     "outputs": []
    },
    {
     "cell_type": "code",
     "collapsed": false,
     "input": [
      "idxs= ms.select_indexes(fm.original_header,\"_median\")\n",
      "#print featdata[0,idxs]\n",
      "#plt.plot_in_subplots(featdata,idxs)\n",
      "plt.plot_all(featdata[:,idxs])"
     ],
     "language": "python",
     "metadata": {},
     "outputs": []
    },
    {
     "cell_type": "code",
     "collapsed": false,
     "input": [
      "idxs= ms.select_indexes(fm.original_header,\"_mad\")\n",
      "#print featdata[0,idxs]\n",
      "#plt.plot_in_subplots(featdata,idxs)\n",
      "plt.plot_all(featdata[:,idxs])"
     ],
     "language": "python",
     "metadata": {},
     "outputs": []
    },
    {
     "cell_type": "code",
     "collapsed": false,
     "input": [
      "idxs= ms.select_indexes(fm.var_to_cor,\"_cor\")\n",
      "#print featdata[0,idxs]\n",
      "#plt.plot_in_subplots(featdata,idxs)\n",
      "plt.plot_all(featdata[:,idxs])"
     ],
     "language": "python",
     "metadata": {},
     "outputs": []
    },
    {
     "cell_type": "code",
     "collapsed": false,
     "input": [
      "idxs= ms.select_indexes(fm.var_to_sma,\"_sma\")\n",
      "#print featdata[0,idxs]\n",
      "#plt.plot_in_subplots(featdata,idxs)\n",
      "plt.plot_all(featdata[:,idxs])"
     ],
     "language": "python",
     "metadata": {},
     "outputs": []
    },
    {
     "cell_type": "code",
     "collapsed": false,
     "input": [
      "idxs= ms.select_indexes(fm.var_to_fft,\"_fft\")\n",
      "#print featdata[0,idxs]\n",
      "#plt.plot_in_subplots(featdata,idxs)\n",
      "plt.plot_all(featdata[:,idxs])"
     ],
     "language": "python",
     "metadata": {},
     "outputs": []
    },
    {
     "cell_type": "code",
     "collapsed": false,
     "input": [
      "idxs= ms.select_indexes(fm.var_to_fft[3:],\"_entr\")\n",
      "#print featdata[0,idxs]\n",
      "#plt.plot_in_subplots(featdata,idxs)\n",
      "plt.plot_all(featdata[:-2,idxs])"
     ],
     "language": "python",
     "metadata": {},
     "outputs": []
    },
    {
     "cell_type": "code",
     "collapsed": false,
     "input": [
      "idxs= ms.select_indexes(fm.var_to_fft[:3],\"_entr\")\n",
      "#print featdata[0,idxs]\n",
      "#plt.plot_in_subplots(featdata,idxs)\n",
      "plt.plot_all(featdata[:-2,idxs])"
     ],
     "language": "python",
     "metadata": {},
     "outputs": []
    },
    {
     "cell_type": "heading",
     "level": 3,
     "metadata": {},
     "source": [
      "Clustering dati segmentati"
     ]
    },
    {
     "cell_type": "code",
     "collapsed": false,
     "input": [
      "\n",
      "featdim = 2\n",
      "ncluster = 10\n",
      "X_r = featdata\n",
      "from sklearn import preprocessing\n",
      "X_r=preprocessing.scale(X_r)\n",
      "pca = PCA(n_components=featdim)\n",
      "X_r = pca.fit(X_r).transform(X_r)\n",
      "kmeans = KMeans(n_clusters=ncluster)\n",
      "\n",
      "kmeans.fit(X_r)\n",
      "plt.plot_clustering_and_targets(X_r,kmeans,0,1,targets)\n",
      "plt.show()\n",
      "#targets = fm.assign_target(featdata)\n",
      "#plt.plot_clustering_and_targets(X_r,kmeans,0,1,targets,(24,16))\n",
      "\n"
     ],
     "language": "python",
     "metadata": {},
     "outputs": []
    },
    {
     "cell_type": "code",
     "collapsed": false,
     "input": [],
     "language": "python",
     "metadata": {},
     "outputs": []
    }
   ],
   "metadata": {}
  }
 ]
}